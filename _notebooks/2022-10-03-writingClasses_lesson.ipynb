{
 "cells": [
  {
   "cell_type": "markdown",
   "metadata": {},
   "source": [
    "# \"Unit 5: Writing Classes\"\n",
    "\n",
    "- toc: true \n",
    "- badges: true\n",
    "- comments: true\n",
    "- categories: "
   ]
  },
  {
   "cell_type": "markdown",
   "metadata": {},
   "source": [
    "![](../images/s1.png)"
   ]
  },
  {
   "cell_type": "markdown",
   "metadata": {},
   "source": [
    "![](../images/s2.png)"
   ]
  },
  {
   "cell_type": "markdown",
   "metadata": {},
   "source": [
    "# 5.1 Anatomy of a Class"
   ]
  },
  {
   "cell_type": "markdown",
   "metadata": {},
   "source": [
    "![](../images/s3.png)"
   ]
  },
  {
   "cell_type": "code",
   "execution_count": 2,
   "metadata": {
    "vscode": {
     "languageId": "java"
    }
   },
   "outputs": [
    {
     "name": "stdout",
     "output_type": "stream",
     "text": [
      "Oreos\n"
     ]
    }
   ],
   "source": [
    "public class Snack { // class name always starts with capital letter\n",
    "\n",
    "    /*\n",
    "     * Instance variables\n",
    "     * Always declared right after class declaration\n",
    "     * Declared with TYPE and NAME\n",
    "     */\n",
    "    private String name;\n",
    "    private int calories;\n",
    "\n",
    "    // constructor\n",
    "    public Snack(String n, int c){\n",
    "        name = n;\n",
    "        calories = c;\n",
    "    }\n",
    "\n",
    "    // methods\n",
    "    public String getName(){ // accessor\n",
    "        return name;\n",
    "    }\n",
    "\n",
    "    public void setName(String n){ // mutator\n",
    "        name = n;\n",
    "    }\n",
    "\n",
    "    // main method\n",
    "    public static void main(String[] args) {\n",
    "        Snack one = new Snack(\"Oreos\", 100);\n",
    "        System.out.println(one.getName());\n",
    "    }\n",
    "}\n",
    "\n",
    "Snack.main(null);"
   ]
  },
  {
   "cell_type": "markdown",
   "metadata": {},
   "source": [
    "## Access Modifiers"
   ]
  },
  {
   "cell_type": "markdown",
   "metadata": {},
   "source": [
    "![](../images/s4.png)"
   ]
  },
  {
   "cell_type": "markdown",
   "metadata": {},
   "source": [
    "## Data Encapsulation\n",
    "\n",
    "- Data can be accessible or modifiable, BOTH, or NEITHER\n",
    "\n",
    "![](../images/s5.png)\n",
    "\n",
    "### Read-Only\n",
    "- Instance variables are declared with the `private` keyword ==> outside the class, the instance variables can only be accessed via public methods of the class"
   ]
  },
  {
   "cell_type": "code",
   "execution_count": 11,
   "metadata": {
    "vscode": {
     "languageId": "java"
    }
   },
   "outputs": [
    {
     "ename": "CompilationException",
     "evalue": "",
     "output_type": "error",
     "traceback": [
      "\u001b[1m\u001b[30m|   \u001b[1m\u001b[30m        System.out.println(\u001b[0m\u001b[1m\u001b[30m\u001b[41mone.name\u001b[0m\u001b[1m\u001b[30m);\u001b[0m",
      "\u001b[1m\u001b[31mname has private access in Snack\u001b[0m",
      ""
     ]
    }
   ],
   "source": [
    "public class Snack {\n",
    "\n",
    "    private String name;\n",
    "    private int calories;\n",
    "\n",
    "    public Snack(String n, int c){\n",
    "        name = n;\n",
    "        calories = c;\n",
    "    }\n",
    "\n",
    "    public String getName(){ // accessor\n",
    "        return name;\n",
    "    }\n",
    "}\n",
    "\n",
    "public class SnackDriver {\n",
    "\n",
    "    public static void main(String[] args) {\n",
    "        Snack one = new Snack(\"Oreos\", 100);\n",
    "        System.out.println(one.getName()); // only accessible with getter\n",
    "        System.out.println(one.name);\n",
    "    }\n",
    "}\n",
    "\n",
    "SnackDriver.main(null);"
   ]
  },
  {
   "cell_type": "markdown",
   "metadata": {},
   "source": [
    "### Write-Only"
   ]
  },
  {
   "cell_type": "code",
   "execution_count": 12,
   "metadata": {
    "vscode": {
     "languageId": "java"
    }
   },
   "outputs": [
    {
     "ename": "CompilationException",
     "evalue": "",
     "output_type": "error",
     "traceback": [
      "\u001b[1m\u001b[30m|   \u001b[1m\u001b[30m        \u001b[0m\u001b[1m\u001b[30m\u001b[41mone.name\u001b[0m\u001b[1m\u001b[30m = \"Golden Oreos\";\u001b[0m",
      "\u001b[1m\u001b[31mname has private access in Snack\u001b[0m",
      ""
     ]
    }
   ],
   "source": [
    "public class Snack {\n",
    "\n",
    "    private String name;\n",
    "    private int calories;\n",
    "\n",
    "    public Snack(String n, int c){\n",
    "        name = n;\n",
    "        calories = c;\n",
    "    }\n",
    "\n",
    "    public void setName(String n){ // accessor\n",
    "        name = n;\n",
    "    }\n",
    "}\n",
    "\n",
    "public class SnackDriver {\n",
    "\n",
    "    public static void main(String[] args) {\n",
    "        Snack one = new Snack(\"Oreos\", 100);\n",
    "        one.setName(\"Double Stuffed Oreos\"); // only accessible with setter\n",
    "        one.name = \"Golden Oreos\";\n",
    "    }\n",
    "}\n",
    "\n",
    "SnackDriver.main(null);"
   ]
  },
  {
   "cell_type": "markdown",
   "metadata": {},
   "source": [
    "# 5.2 Constructors"
   ]
  },
  {
   "cell_type": "markdown",
   "metadata": {},
   "source": [
    "![](../images/s6.png)"
   ]
  },
  {
   "cell_type": "markdown",
   "metadata": {},
   "source": [
    "![](../images/s7.png)"
   ]
  },
  {
   "cell_type": "code",
   "execution_count": 5,
   "metadata": {
    "vscode": {
     "languageId": "java"
    }
   },
   "outputs": [
    {
     "name": "stdout",
     "output_type": "stream",
     "text": [
      "Using Default Constructor: null\n",
      "Using Two Constructor: Oreos\n"
     ]
    }
   ],
   "source": [
    "public class Snack {\n",
    "\n",
    "    private String name;\n",
    "    private int calories;\n",
    "\n",
    "    /*\n",
    "     * Constructors\n",
    "     * Syntax: \n",
    "        *  Written after instance variables, before methods\n",
    "        * Name must match name of the class\n",
    "        * No return type\n",
    "     */\n",
    "\n",
    "    // default constructor\n",
    "    public Snack(){\n",
    "        name = null;\n",
    "        calories = 0;\n",
    "    }\n",
    "\n",
    "    // constructor parameters (n and c) are local variables for the constructor only\n",
    "    public Snack(String n, int c){\n",
    "        name = n;\n",
    "        calories = c;\n",
    "    }\n",
    "\n",
    "    public String getName(){ // accessor\n",
    "        return name;\n",
    "    }\n",
    "    \n",
    "    public static void main(String[] args) {\n",
    "        Snack one = new Snack();\n",
    "        System.out.println(\"Using Default Constructor: \" + one.getName());\n",
    "        Snack two = new Snack(\"Oreos\", 100);\n",
    "        System.out.println(\"Using Two Constructor: \" + two.getName());\n",
    "    }\n",
    "}\n",
    "\n",
    "Snack.main(null);"
   ]
  },
  {
   "cell_type": "markdown",
   "metadata": {},
   "source": [
    "- Every instance of the Snack class has the attributes `name` and `calories`\n",
    "![](../images/s8.png)"
   ]
  },
  {
   "cell_type": "markdown",
   "metadata": {},
   "source": [
    "## 5.3 Comments"
   ]
  },
  {
   "cell_type": "markdown",
   "metadata": {},
   "source": [
    "- Ignored by compiler, not executed\n",
    "- Make code more readable for humans or prevent execution when testing\n",
    "- Are NOT required on AP Exam\n",
    "\n",
    "### Types\n",
    "- Multi-line comments (/**/)\n",
    "- Single-line comments (//)\n",
    "- Javadoc comments\n",
    "    - Javadoc tool that comes with the Java JDK can pull out comments and create a web page with all your comments\n",
    "### Other Vocab\n",
    "- Precondition: condition that must be true before execution of a code block\n",
    "    - Methods don't need to check preconditions\n",
    "- Postcondition: condition that is ALWAYS true after the execution of a code block\n",
    "    - Outcome\n",
    "    - State of instance variables"
   ]
  },
  {
   "cell_type": "markdown",
   "metadata": {},
   "source": [
    "## Coding Challenge"
   ]
  },
  {
   "cell_type": "markdown",
   "metadata": {},
   "source": [
    "![](../images/s9.png)"
   ]
  }
 ],
 "metadata": {
  "kernelspec": {
   "display_name": "Java",
   "language": "java",
   "name": "java"
  },
  "language_info": {
   "codemirror_mode": "java",
   "file_extension": ".jshell",
   "mimetype": "text/x-java-source",
   "name": "Java",
   "pygments_lexer": "java",
   "version": "18.0.2+9-61"
  },
  "orig_nbformat": 4,
  "vscode": {
   "interpreter": {
    "hash": "31f2aee4e71d21fbe5cf8b01ff0e069b9275f58929596ceb00d14d90e3e16cd6"
   }
  }
 },
 "nbformat": 4,
 "nbformat_minor": 2
}
