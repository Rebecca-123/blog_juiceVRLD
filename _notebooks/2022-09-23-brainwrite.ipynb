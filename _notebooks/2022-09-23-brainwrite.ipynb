{
 "cells": [
  {
   "cell_type": "markdown",
   "metadata": {},
   "source": [
    "# \"Week 5: Team Design Starters\"\n",
    "> Planning Trimester 1 website.\n",
    "\n",
    "- toc: true \n",
    "- badges: true\n",
    "- comments: true\n",
    "- categories: [pbl]"
   ]
  },
  {
   "cell_type": "markdown",
   "metadata": {},
   "source": [
    "# Team Brainwrite\n",
    "\n",
    "## Project Ideas\n",
    "1. After-school organization tool<br>\n",
    "\n",
    "2. **Travel website**"
   ]
  },
  {
   "cell_type": "markdown",
   "metadata": {},
   "source": [
    "## Website Purpose\n",
    "### Travel web application providing users with a tool to organize travel plans and prepare for their next adventure."
   ]
  },
  {
   "cell_type": "markdown",
   "metadata": {},
   "source": [
    "### Website Ideas\n",
    "1. Authentication\n",
    "- Users can sign up and log in to access personal itineraries, packing lists... etc\n",
    "\n",
    "2. Search capabilities\n",
    "- Over entire website\n",
    "- Searching itinerary database\n",
    "\n",
    "3. Currency converter\n",
    "4. Map\n",
    "5. Notifications (possibly for change in flight data)"
   ]
  },
  {
   "cell_type": "markdown",
   "metadata": {},
   "source": [
    "#### APIs\n",
    "1. Flight Data\n",
    "- [Link to Possible API to Use](https://flightaware.com/commercial/aeroapi/)\n",
    "2. Weather API\n",
    "3. Translator API"
   ]
  },
  {
   "cell_type": "markdown",
   "metadata": {},
   "source": [
    "#### Databases\n",
    "1. Itinerary\n",
    "- Table where users can add travel plans\n",
    "\n",
    "- More complex idea: allow sharing/collaboration on itinerary plans (across user accounts)"
   ]
  },
  {
   "cell_type": "markdown",
   "metadata": {},
   "source": [
    "2. Packing list"
   ]
  },
  {
   "cell_type": "markdown",
   "metadata": {},
   "source": [
    "#### Locations\n",
    "1. Los Angeles\n",
    "2. San Fransisco\n",
    "3. Yosemite National Park\n",
    "4. San Diego\n",
    "5. Sacramento\n",
    "6. Joshua Tree\n",
    "7. Palm Springs\n",
    "8. Santa Barbara"
   ]
  },
  {
   "cell_type": "markdown",
   "metadata": {},
   "source": [
    "### Wireframes\n",
    "\n",
    "#### [Part 1](https://www.figma.com/file/qQcp1nxL9vIEUFXvYskJgI/juiceVRLD-Travel-Website-Wireframe?node-id=0%3A1)\n",
    "\n",
    "#### [Part 2](https://www.figma.com/file/TNcvLOHf7HS8B7CGj0mB3x/Traveling-Website-Wireframe-2?node-id=0%3A1)"
   ]
  },
  {
   "cell_type": "markdown",
   "metadata": {},
   "source": [
    "### Specific Destinations to Focus Data (Flights, Weather, Hotels) On\n",
    "\n",
    "Our goal is to focus on popular cities in California.\n",
    "\n",
    "1. Santa Barbara\n",
    "2. Los Angeles\n",
    "3. San Fransico"
   ]
  },
  {
   "cell_type": "markdown",
   "metadata": {},
   "source": [
    "## [Backend/UML/Data](https://rebecca-123.github.io/blog_juiceVRLD/pbl/2022/09/24/data-models.html)"
   ]
  }
 ],
 "metadata": {
  "kernelspec": {
   "display_name": "Python 3.10.5 64-bit",
   "language": "python",
   "name": "python3"
  },
  "language_info": {
   "name": "python",
   "version": "3.10.5"
  },
  "orig_nbformat": 4,
  "vscode": {
   "interpreter": {
    "hash": "bc8cf01c5e0744173b629e941ab5d786dde8ac859fc24d3062e71e885b7b14a9"
   }
  }
 },
 "nbformat": 4,
 "nbformat_minor": 2
}
