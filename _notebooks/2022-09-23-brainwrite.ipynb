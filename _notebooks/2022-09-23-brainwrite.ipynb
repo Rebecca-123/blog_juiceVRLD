{
 "cells": [
  {
   "cell_type": "markdown",
   "metadata": {},
   "source": [
    "# \"Week 5: Team Design Starters\"\n",
    "> Planning Trimester 1 website.\n",
    "\n",
    "- toc: true \n",
    "- badges: true\n",
    "- comments: true\n",
    "- categories: [pbl]"
   ]
  },
  {
   "cell_type": "markdown",
   "metadata": {},
   "source": [
    "# Team Brainwrite\n",
    "\n",
    "## Project Ideas\n",
    "1. After-school organization tool<br>\n",
    "\n",
    "2. **Travel website**"
   ]
  },
  {
   "cell_type": "markdown",
   "metadata": {},
   "source": [
    "## Website Purpose\n",
    "### Travel web application providing users with a tool to organize travel plans and prepare for their next adventure."
   ]
  },
  {
   "cell_type": "markdown",
   "metadata": {},
   "source": [
    "### Website Ideas\n",
    "1. Authentication\n",
    "- Users can sign up and log in to access personal itineraries, packing lists... etc\n",
    "\n",
    "2. Search capabilities\n",
    "- Over entire website\n",
    "- Searching itinerary database\n",
    "\n",
    "3. Currency converter\n",
    "4. Map\n",
    "5. Notifications (possibly for change in flight data)"
   ]
  },
  {
   "cell_type": "markdown",
   "metadata": {},
   "source": [
    "#### APIs\n",
    "1. Flight Data\n",
    "- [Link to Possible API to Use](https://flightaware.com/commercial/aeroapi/)\n",
    "2. Weather API\n",
    "3. Translator API"
   ]
  },
  {
   "cell_type": "markdown",
   "metadata": {},
   "source": [
    "#### Databases\n",
    "1. Itinerary\n",
    "- Table where users can add travel plans\n",
    "\n",
    "- More complex idea: allow sharing/collaboration on itinerary plans (across user accounts)"
   ]
  },
  {
   "cell_type": "markdown",
   "metadata": {},
   "source": [
    "2. Packing list"
   ]
  },
  {
   "cell_type": "markdown",
   "metadata": {},
   "source": [
    "### Wireframe"
   ]
  },
  {
   "cell_type": "markdown",
   "metadata": {},
   "source": [
    "## [Backend/UML/Data](https://rebecca-123.github.io/blog_juiceVRLD/pbl/2022/09/24/data-models.html)"
   ]
  },
  {
   "cell_type": "markdown",
   "metadata": {},
   "source": [
    "### Currency Converter\n",
    "If using Spring and Thymeleaf,<br>\n",
    "1. User selects currency conversion (from USD or to USD...)\n",
    "2. User provides values to convert\n",
    "3. Java method will execute mathematical conversion\n",
    "4. Converted value will be returned and displayed\n",
    "\n",
    "- HTML form\n",
    "- Java class and method"
   ]
  }
 ],
 "metadata": {
  "kernelspec": {
   "display_name": "Java",
   "language": "java",
   "name": "java"
  },
  "language_info": {
   "name": "java",
   "version": "3.10.5"
  },
  "orig_nbformat": 4,
  "vscode": {
   "interpreter": {
    "hash": "bc8cf01c5e0744173b629e941ab5d786dde8ac859fc24d3062e71e885b7b14a9"
   }
  }
 },
 "nbformat": 4,
 "nbformat_minor": 2
}
