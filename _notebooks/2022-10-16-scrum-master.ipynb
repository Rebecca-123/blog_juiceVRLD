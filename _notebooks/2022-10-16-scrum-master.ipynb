{
 "cells": [
  {
   "cell_type": "markdown",
   "metadata": {},
   "source": [
    "# Agile Development Roles: Scrum Master\n",
    "> Project Week 2 CTE and PBL Prep.\n",
    "\n",
    "- toc: true \n",
    "- badges: true\n",
    "- comments: true\n",
    "- categories: []\n",
    "- image: images/scrum.png"
   ]
  },
  {
   "cell_type": "markdown",
   "metadata": {},
   "source": [
    "### Scrum Master\n",
    "> Describe Program Purpose and Function.  Also, highlight key system used to track, collaborate and review software.\n",
    "- Identify and Apply a Software Development process.  \n",
    "    - Describe your Software Development Life Cycle \n",
    "    - Describe how you plan, track sprints, track features, track milestones, and assign versions.\n",
    "    - Highlight Agile process: research, design, coding, testing, review, repeat.\n",
    "- Define and analyze systems and software requirements.\n",
    "    - Define Computer Systems you have or will develop.\n",
    "    - Indicate Tools or Automation you will use improve tracking requirements (ie Project/Scrum Board).\n",
    "    - Define strategies that enable Team to target the specific needs of the customer (ie Product Owner).  Describe meetings, demos, and how you collect feedback.  \n",
    "- Test and Demo Software during each Sprint\n",
    "    - Consider using GitHub Issues to support this process.\n",
    "    - Develop and describe expectations of each feature.\n",
    "    - Use feature, expected outcome, and the minimal amount of code each feature.\n",
    "    - Document accomplishment with tangible evidence.\n",
    "    - Have feature reviews, demos, and obtain feedback (team and/or customer)\n",
    "    - Update and derive new features and tasks for next step in Software Development Life Cycle"
   ]
  }
 ],
 "metadata": {
  "kernelspec": {
   "display_name": "Python 3.10.5 64-bit",
   "language": "python",
   "name": "python3"
  },
  "language_info": {
   "name": "python",
   "version": "3.10.5"
  },
  "orig_nbformat": 4,
  "vscode": {
   "interpreter": {
    "hash": "bc8cf01c5e0744173b629e941ab5d786dde8ac859fc24d3062e71e885b7b14a9"
   }
  }
 },
 "nbformat": 4,
 "nbformat_minor": 2
}
