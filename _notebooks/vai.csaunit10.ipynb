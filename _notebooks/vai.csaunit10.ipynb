{
 "cells": [
  {
   "cell_type": "markdown",
   "metadata": {},
   "source": [
    "# CB Unit 10: Recursion\n",
    "> Notes & Hacks\n",
    "\n",
    "- toc: false \n",
    "- badges: true\n",
    "- comments: true\n",
    "- categories: [units]\n",
    "- permalink: /pbl/planning"
   ]
  },
  {
   "cell_type": "markdown",
   "metadata": {},
   "source": [
    "recursive method: method that calls itself\n",
    "subproblem: calls itself repeatedly\n",
    "two parts: base case, recursive call\n",
    "base case reached where recursion is stopped and value is returned\n",
    "\n",
    "Recursion:\n",
    "- recursive calls part of method\n",
    "    - each lead to base case being reached\n",
    "- call stacks: keep track of all times recursive function is called as well as their individual parameters\n",
    "- recursions: similar to loops, could be written as loops\n",
    "- iteration vs recursion:\n",
    "    - iteration: used when we execute set of instructions repeatedly\n",
    "    - recursion: when solution to bigger problem expressed in smaller problem terms\n",
    "        - recursion = function calls\n",
    "        - iteration = for/while loops\n",
    "\n",
    "Binary Search:\n",
    "- data must be stored in order, halving array until value found\n",
    "- think 0(log2n) than O(n); more efficient!\n",
    "\n",
    "Linear Recursion:\n",
    "- function makes single call to itself when function runs\n",
    "Selection Sort\n",
    "- repeatedly finding minimum element from unsorted to sorted part\n",
    "Merge Sort:\n",
    "- sorts ArrayList structures, “divide and conquer” algorithm\n"
   ]
  }
 ],
 "metadata": {
  "kernelspec": {
   "display_name": "Python 3.10.4 64-bit",
   "language": "python",
   "name": "python3"
  },
  "language_info": {
   "name": "python",
   "version": "3.10.4"
  },
  "orig_nbformat": 4,
  "vscode": {
   "interpreter": {
    "hash": "aee8b7b246df8f9039afb4144a1f6fd8d2ca17a180786b69acc140d282b71a49"
   }
  }
 },
 "nbformat": 4,
 "nbformat_minor": 2
}
