{
 "cells": [
  {
   "cell_type": "markdown",
   "metadata": {},
   "source": [
    "# Week 4 Team Presentation\n",
    "> Presentation on FRQ 1 Methods and Control Structures.\n",
    "\n",
    "- toc: true \n",
    "- badges: true\n",
    "- comments: true"
   ]
  },
  {
   "cell_type": "markdown",
   "metadata": {},
   "source": [
    "# FRQ Question 1\n",
    "\n",
    "## Key Ideas\n",
    "1. Creating methods\n",
    "    - The primary task of FRQ 1 is to write the code inside the method --> this involves control structures.\n",
    "2. Calling methods\n",
    "<!-- Here maybe it is a good idea to add how to call methods and give a simple example -->"
   ]
  },
  {
   "cell_type": "markdown",
   "metadata": {},
   "source": [
    "### Concepts Covered\n",
    "1. Iteration (for loops)\n",
    "<!-- Maybe go over this (how to write for loop, syntax) because we haven't really gone over this in class -->\n",
    "2. Selection (conditionals - if/else if/else)"
   ]
  },
  {
   "cell_type": "markdown",
   "metadata": {},
   "source": [
    "### Notes/Strategies\n",
    "1. Don't have to worry about method signature\n",
    "    - the method name, keywords, and output types are given\n",
    "2. Use the given examples to test code\n",
    "    - For example, 2019 began on a Tuesday, and January 5 is the fifth day of 2019. As a result, January 5, 2019, fell on a Saturday, and the method call dayOfWeek(1, 5, 2019) returns 6. As another example, January 10 is the tenth day of 2019. As a result, January 10, 2019, fell on a Thursday, and the method call dayOfWeek(1, 10, 2019) returns 4. \n",
    "    <!-- If this is confusing, I (Rebecca) can explain it because I'm the one who completed 2019 FRQ 1 -->\n",
    "    - It is a good idea to test the inputs and see if the program you wrote returns the expected results.\n",
    "        - This can prevent errors in writing the method due to calculation mistakes"
   ]
  }
 ],
 "metadata": {
  "kernelspec": {
   "display_name": "Python 3.10.5 64-bit",
   "language": "python",
   "name": "python3"
  },
  "language_info": {
   "name": "python",
   "version": "3.10.5"
  },
  "orig_nbformat": 4,
  "vscode": {
   "interpreter": {
    "hash": "bc8cf01c5e0744173b629e941ab5d786dde8ac859fc24d3062e71e885b7b14a9"
   }
  }
 },
 "nbformat": 4,
 "nbformat_minor": 2
}
