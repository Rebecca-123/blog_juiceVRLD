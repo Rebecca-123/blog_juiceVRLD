{
 "cells": [
  {
   "cell_type": "markdown",
   "metadata": {},
   "source": [
    "# \"Test Corrections\"\n",
    "> 2014 MC.\n",
    "\n",
    "- toc: false \n",
    "- badges: true\n",
    "- comments: true\n",
    "- categories: [pbl]\n",
    "- permalink: /pbl/corrections"
   ]
  },
  {
   "cell_type": "markdown",
   "metadata": {},
   "source": [
    "## Question 2\n",
    "### My answer was D when the actual answer was A. Since getA is not a static method, it must be called with an object of SomeClass rather than the class name."
   ]
  },
   {
   "cell_type": "markdown",
   "metadata": {},
   "source": [
    "## Question 3\n",
    "### My answer was B when the correct answer was C. Because it wouldn't meet the first requirement it would be passed to the else statement which would result in 2.333 but in this case, the values are int so it would be rounded to be 2."
   ]
  },
   {
   "cell_type": "markdown",
   "metadata": {},
   "source": [
    "## Question 6\n",
    "### My answer was C when the correct answer was E. To determine the positive distance between two values, we need to take the absolute value of the difference using Math.abs. Additionally, we need to check to see if the positive difference is less than or equal to the tolerance instead of greater than or equal to the tolerance"
   ]
  },
   {
   "cell_type": "markdown",
   "metadata": {},
   "source": [
    "## Question 23\n",
    "### My answer was C when the actual answer was B. List is an interface, which an ArrayList implements. Please note that List is no longer tested as part of the AP CSA exam and ArrayList will be used instead. This would be the correct answer if the remove occurred before the size was calculated in the statement animals.add(animals.size()-k, animals.remove(k)); and only one iteration of the loop occurred."
   ]
  },
   {
   "cell_type": "markdown",
   "metadata": {},
   "source": [
    "## Question 28\n",
    "### My answer was C when the correct answer was E. At //Point A, n is the value being passed in the parameter in the original call to the method mystery, which can be any int."
   ]
  },
   {
   "cell_type": "markdown",
   "metadata": {},
   "source": [
    "## Website Purpose\n",
    "### Travel web application providing users with a tool to organize travel plans and prepare for their next adventure."
   ]
  },
   {
   "cell_type": "markdown",
   "metadata": {},
   "source": [
    "## Question 31\n",
    "### My answer was B when the correct answer C. Passing a reference parameter results in the formal parameter and the actual parameter being aliases. They both refer to the same object. Any updates made to the referenced array when mystery is called are being made on the single array that is reference by both data and values. When data[k + 1] is updated, this value new value should be used in the subsequent calculations."
   ]
  },
   {
   "cell_type": "markdown",
   "metadata": {},
   "source": [
    "## Question 33\n",
    "### My answer was B when the correct answer was E. I am going to be completely honest I kind of guessed on this answer so I don't know how it works."
   ]
  },
  {
   "cell_type": "markdown",
   "metadata": {},
   "source": [
    "## Question 40\n",
    "### My answer was A when the actual answer was supposed to be C.   This would be the output if the System.out.println(temp); line was before the recursive call to whatsItDo(temp); When the recursive call whatsItDo(temp); is executed, the current sequence of statements are paused."
   ]
  }
 ],
 "metadata": {
  "kernelspec": {
   "display_name": "Python 3.10.5 64-bit",
   "language": "python",
   "name": "python3"
  },
  "language_info": {
   "name": "python",
   "version": "3.10.5"
  },
  "orig_nbformat": 4,
  "vscode": {
   "interpreter": {
    "hash": "bc8cf01c5e0744173b629e941ab5d786dde8ac859fc24d3062e71e885b7b14a9"
   }
  }
 },
 "nbformat": 4,
 "nbformat_minor": 2
}
