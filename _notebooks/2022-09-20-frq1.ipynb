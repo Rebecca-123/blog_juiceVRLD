{
 "cells": [
  {
   "cell_type": "markdown",
   "id": "c2a894ef",
   "metadata": {},
   "source": [
    "# FRQ No. 1: Methods and control structures\n",
    "\n",
    "- toc: true \n",
    "- badges: true\n",
    "- comments: true\n",
    "- categories: [jupyter]"
   ]
  },
  {
   "cell_type": "markdown",
   "id": "9caa86a6",
   "metadata": {},
   "source": [
    "(a)"
   ]
  },
  {
   "cell_type": "code",
   "execution_count": null,
   "id": "046ef323",
   "metadata": {},
   "outputs": [],
   "source": [
    "public int scoreGuess(String guess) \n",
    "{\n",
    "\n",
    "  //Initialize the counter variable\n",
    "  int count = 0;\n",
    "\n",
    "  // Execute the for loop \n",
    "  for(int i = 0; i < secret.length(); i++) \n",
    "  {\n",
    "    int j = i + guess.length();\n",
    " // substring \n",
    "    if(j <= secret.length() && secret.substring(i,j).equals(guess))\n",
    "//if equals to the guess, the count increases by 1 \n",
    "      count++;\n",
    "  }\n",
    "//returning the final answer\n",
    "  return count * (guess.length() * guess.length());\n",
    "}\n"
   ]
  },
  {
   "cell_type": "markdown",
   "id": "bde20087",
   "metadata": {},
   "source": [
    "(b)"
   ]
  },
  {
   "cell_type": "code",
   "execution_count": null,
   "id": "a1826b8d",
   "metadata": {},
   "outputs": [],
   "source": [
    "public String findBetterGuess(String guess1, String guess2)\n",
    "{\n",
    "  //variables \n",
    "  int score1 = scoreGuess(guess1);\n",
    "  int score2 = scoreGuess(guess2);\n",
    "//comparing the scores\n",
    "  if(score1 > score2)\n",
    "    return guess1;\n",
    "  else if(score2 > score1)\n",
    "    return guess2;\n",
    "  else\n",
    "  {\n",
    "    if(guess1.compareTo(guess2) > 0)\n",
    "      return guess1;\n",
    "    else\n",
    "      return guess2;\n",
    "  }\n",
    "}\n"
   ]
  }
 ],
 "metadata": {
  "kernelspec": {
   "display_name": "Java",
   "language": "java",
   "name": "java"
  },
  "language_info": {
   "codemirror_mode": "java",
   "file_extension": ".jshell",
   "mimetype": "text/x-java-source",
   "name": "Java",
   "pygments_lexer": "java",
   "version": "17.0.4+8"
  }
 },
 "nbformat": 4,
 "nbformat_minor": 5
}
